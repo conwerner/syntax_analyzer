{
 "cells": [
  {
   "cell_type": "code",
   "execution_count": 3,
   "metadata": {
    "collapsed": true,
    "ExecuteTime": {
     "end_time": "2024-05-12T21:01:27.459715900Z",
     "start_time": "2024-05-12T21:01:27.297689700Z"
    }
   },
   "outputs": [],
   "source": [
    "from syntax_analyzer.parser import Parser\n",
    "\n",
    "parser = Parser()\n",
    "\n",
    "sent = \"Мама мыла раму.\"\n",
    "\n",
    "t = parser.parse(sent)\n"
   ]
  },
  {
   "cell_type": "code",
   "execution_count": 5,
   "outputs": [
    {
     "name": "stdout",
     "output_type": "stream",
     "text": [
      "S\n",
      "       NP[case='nomn'] \n",
      "           Мама ['NOUN', 'sing', 'femn', 'nomn']\n",
      "   VP[tran]\n",
      "           VP[tran] \n",
      "                 мыла ['VERB', 'sing', 'femn', 'tran', 'past']\n",
      "           NP[case='accs'] \n",
      "                 раму ['NOUN', 'sing', 'femn', 'accs']\n"
     ]
    }
   ],
   "source": [
    "t[0].display()"
   ],
   "metadata": {
    "collapsed": false,
    "ExecuteTime": {
     "end_time": "2024-05-12T21:01:39.314815700Z",
     "start_time": "2024-05-12T21:01:39.304082600Z"
    }
   }
  },
  {
   "cell_type": "code",
   "execution_count": null,
   "outputs": [],
   "source": [],
   "metadata": {
    "collapsed": false
   }
  }
 ],
 "metadata": {
  "kernelspec": {
   "display_name": "Python 3",
   "language": "python",
   "name": "python3"
  },
  "language_info": {
   "codemirror_mode": {
    "name": "ipython",
    "version": 2
   },
   "file_extension": ".py",
   "mimetype": "text/x-python",
   "name": "python",
   "nbconvert_exporter": "python",
   "pygments_lexer": "ipython2",
   "version": "2.7.6"
  }
 },
 "nbformat": 4,
 "nbformat_minor": 0
}
